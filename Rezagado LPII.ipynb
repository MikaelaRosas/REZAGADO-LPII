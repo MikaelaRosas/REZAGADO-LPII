{
 "cells": [
  {
   "cell_type": "markdown",
   "id": "6f045a39",
   "metadata": {},
   "source": [
    "# Rezagado LPII \n",
    "## Mikaela Rosas Tenorio 20200335"
   ]
  },
  {
   "cell_type": "code",
   "execution_count": 1,
   "id": "fefa2228",
   "metadata": {},
   "outputs": [],
   "source": [
    "#Importando librerias y alamecenando el enlace en \"baseurl\"\n",
    "import requests\n",
    "from bs4 import BeautifulSoup\n",
    "import pandas as pd\n",
    "baseurl = \"https://www.gutenberg.org\""
   ]
  },
  {
   "cell_type": "code",
   "execution_count": 2,
   "id": "01d727d6",
   "metadata": {},
   "outputs": [],
   "source": [
    "headers = {\n",
    "    'User-Agent': 'Mozilla/5.0 (Macintosh; Intel Mac OS X 10_15_6) AppleWebKit/605.1.15 (KHTML, like Gecko) Version/14.0.3 Safari/605.1.15'\n",
    "}\n",
    "url = 'https://www.gutenberg.org/browse/languages/es'\n",
    "reqs = requests.get(url)\n",
    "soup = BeautifulSoup(reqs.text, 'lxml')\n",
    "\n",
    "link_list_items = soup.find_all('li', {'class':'pgdbetext'})\n",
    "links = [item.find('a').get('href') for item in link_list_items]"
   ]
  },
  {
   "cell_type": "code",
   "execution_count": 3,
   "id": "0703d8e1",
   "metadata": {},
   "outputs": [],
   "source": [
    "libros_links = []\n",
    "for item in range(len(links)):\n",
    "    libros_links.append(baseurl + links[item])"
   ]
  },
  {
   "cell_type": "code",
   "execution_count": 4,
   "id": "03c0004d",
   "metadata": {},
   "outputs": [],
   "source": [
    "productoslist = []"
   ]
  },
  {
   "cell_type": "code",
   "execution_count": 7,
   "id": "78e9df45",
   "metadata": {},
   "outputs": [
    {
     "data": {
      "text/plain": [
       "'C:\\\\Users\\\\mikae\\\\Desktop\\\\LPII'"
      ]
     },
     "execution_count": 7,
     "metadata": {},
     "output_type": "execute_result"
    }
   ],
   "source": [
    "import os\n",
    "os.getcwd()"
   ]
  },
  {
   "cell_type": "code",
   "execution_count": 10,
   "id": "484992d1",
   "metadata": {},
   "outputs": [],
   "source": [
    "#Cambiar el directorio de trabajo en la carpeta \"Rezagado LPII\"\n",
    "os.chdir(\"C:\\\\Users\\\\mikae\\\\Desktop\\\\RezagadoLPII\")"
   ]
  },
  {
   "cell_type": "code",
   "execution_count": 5,
   "id": "8ea9af60",
   "metadata": {},
   "outputs": [],
   "source": [
    "df = pd.DataFrame(libros_links)\n",
    "#print(df.head(15))"
   ]
  },
  {
   "cell_type": "code",
   "execution_count": 6,
   "id": "08aa6d27",
   "metadata": {},
   "outputs": [],
   "source": [
    "#print(df.head(15))\n",
    "df.to_csv('prueba-mikaela.csv')"
   ]
  },
  {
   "cell_type": "code",
   "execution_count": 11,
   "id": "12a1fbaa",
   "metadata": {},
   "outputs": [],
   "source": [
    "#Importando librerias\n",
    "import pandas as pd\n",
    "import requests\n",
    "from bs4 import BeautifulSoup\n",
    "import concurrent.futures\n",
    "from csv import reader"
   ]
  },
  {
   "cell_type": "code",
   "execution_count": 12,
   "id": "27d7ede0",
   "metadata": {},
   "outputs": [],
   "source": [
    "urls = []\n",
    "urls2 = []\n",
    "titulos = []\n",
    "autores = []\n",
    "anos = []"
   ]
  },
  {
   "cell_type": "code",
   "execution_count": 14,
   "id": "ace253d8",
   "metadata": {},
   "outputs": [],
   "source": [
    "with open('prueba-mikaela.csv', 'r') as f:\n",
    "        csv_reader = reader(f)\n",
    "        for row in csv_reader:\n",
    "            urls.append(row[1])"
   ]
  },
  {
   "cell_type": "code",
   "execution_count": 15,
   "id": "a8b5662f",
   "metadata": {},
   "outputs": [],
   "source": [
    "def transform(url):\n",
    "    r = requests.get(str(url))\n",
    "    soup = BeautifulSoup(r.content, 'html.parser')\n",
    "    titulo = soup.find('th', text='Title').find_next_sibling('td').text\n",
    "    autor = soup.find('th', text='Author').find_next_sibling('td').text\n",
    "    ano = soup.find('th', text='Release Date').find_next_sibling('td').text\n",
    "    titulos.append(titulo)\n",
    "    autores.append(autor)\n",
    "    anos.append(ano)\n",
    "    return"
   ]
  },
  {
   "cell_type": "code",
   "execution_count": 16,
   "id": "185bdca3",
   "metadata": {},
   "outputs": [],
   "source": [
    "with concurrent.futures.ThreadPoolExecutor() as executor:\n",
    "    executor.map(transform, urls)"
   ]
  },
  {
   "cell_type": "code",
   "execution_count": 17,
   "id": "afd7a98d",
   "metadata": {},
   "outputs": [
    {
     "name": "stdout",
     "output_type": "stream",
     "text": [
      "1088\n",
      "Complete.\n"
     ]
    }
   ],
   "source": [
    "print(len(titulos))\n",
    "df1 = pd.DataFrame(titulos)\n",
    "df2 = pd.DataFrame(autores)\n",
    "df3 = pd.DataFrame(anos)\n",
    "df = pd.concat([df1,df2,df3], axis=1)\n",
    "df.to_csv('titles.csv', index=False)\n",
    "print('Complete.')"
   ]
  },
  {
   "cell_type": "code",
   "execution_count": null,
   "id": "73cbefd2",
   "metadata": {},
   "outputs": [],
   "source": []
  }
 ],
 "metadata": {
  "kernelspec": {
   "display_name": "Python 3 (ipykernel)",
   "language": "python",
   "name": "python3"
  },
  "language_info": {
   "codemirror_mode": {
    "name": "ipython",
    "version": 3
   },
   "file_extension": ".py",
   "mimetype": "text/x-python",
   "name": "python",
   "nbconvert_exporter": "python",
   "pygments_lexer": "ipython3",
   "version": "3.9.7"
  }
 },
 "nbformat": 4,
 "nbformat_minor": 5
}
